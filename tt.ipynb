{
 "cells": [
  {
   "cell_type": "code",
   "execution_count": 3,
   "metadata": {},
   "outputs": [
    {
     "ename": "MatchError",
     "evalue": "Could not find 'UntitledNotepad' in 'dict_keys([])'",
     "output_type": "error",
     "traceback": [
      "\u001b[1;31m---------------------------------------------------------------------------\u001b[0m",
      "\u001b[1;31mTimeoutError\u001b[0m                              Traceback (most recent call last)",
      "File \u001b[1;32mc:\\Users\\user\\miniconda3\\envs\\lhs_3.11\\Lib\\site-packages\\pywinauto\\application.py:250\u001b[0m, in \u001b[0;36mWindowSpecification.__resolve_control\u001b[1;34m(self, criteria, timeout, retry_interval)\u001b[0m\n\u001b[0;32m    249\u001b[0m \u001b[38;5;28;01mtry\u001b[39;00m:\n\u001b[1;32m--> 250\u001b[0m     ctrl \u001b[38;5;241m=\u001b[39m \u001b[43mwait_until_passes\u001b[49m\u001b[43m(\u001b[49m\n\u001b[0;32m    251\u001b[0m \u001b[43m        \u001b[49m\u001b[43mtimeout\u001b[49m\u001b[43m,\u001b[49m\n\u001b[0;32m    252\u001b[0m \u001b[43m        \u001b[49m\u001b[43mretry_interval\u001b[49m\u001b[43m,\u001b[49m\n\u001b[0;32m    253\u001b[0m \u001b[43m        \u001b[49m\u001b[38;5;28;43mself\u001b[39;49m\u001b[38;5;241;43m.\u001b[39;49m\u001b[43m__get_ctrl\u001b[49m\u001b[43m,\u001b[49m\n\u001b[0;32m    254\u001b[0m \u001b[43m        \u001b[49m\u001b[43m(\u001b[49m\u001b[43mfindwindows\u001b[49m\u001b[38;5;241;43m.\u001b[39;49m\u001b[43mElementNotFoundError\u001b[49m\u001b[43m,\u001b[49m\n\u001b[0;32m    255\u001b[0m \u001b[43m         \u001b[49m\u001b[43mfindbestmatch\u001b[49m\u001b[38;5;241;43m.\u001b[39;49m\u001b[43mMatchError\u001b[49m\u001b[43m,\u001b[49m\n\u001b[0;32m    256\u001b[0m \u001b[43m         \u001b[49m\u001b[43mcontrols\u001b[49m\u001b[38;5;241;43m.\u001b[39;49m\u001b[43mInvalidWindowHandle\u001b[49m\u001b[43m,\u001b[49m\n\u001b[0;32m    257\u001b[0m \u001b[43m         \u001b[49m\u001b[43mcontrols\u001b[49m\u001b[38;5;241;43m.\u001b[39;49m\u001b[43mInvalidElement\u001b[49m\u001b[43m)\u001b[49m\u001b[43m,\u001b[49m\n\u001b[0;32m    258\u001b[0m \u001b[43m        \u001b[49m\u001b[43mcriteria\u001b[49m\u001b[43m)\u001b[49m\n\u001b[0;32m    260\u001b[0m \u001b[38;5;28;01mexcept\u001b[39;00m \u001b[38;5;167;01mTimeoutError\u001b[39;00m \u001b[38;5;28;01mas\u001b[39;00m e:\n",
      "File \u001b[1;32mc:\\Users\\user\\miniconda3\\envs\\lhs_3.11\\Lib\\site-packages\\pywinauto\\timings.py:458\u001b[0m, in \u001b[0;36mwait_until_passes\u001b[1;34m(timeout, retry_interval, func, exceptions, *args, **kwargs)\u001b[0m\n\u001b[0;32m    457\u001b[0m             err\u001b[38;5;241m.\u001b[39moriginal_exception \u001b[38;5;241m=\u001b[39m e\n\u001b[1;32m--> 458\u001b[0m             \u001b[38;5;28;01mraise\u001b[39;00m err\n\u001b[0;32m    460\u001b[0m \u001b[38;5;66;03m# return the function value\u001b[39;00m\n",
      "\u001b[1;31mTimeoutError\u001b[0m: ",
      "\nDuring handling of the above exception, another exception occurred:\n",
      "\u001b[1;31mMatchError\u001b[0m                                Traceback (most recent call last)",
      "Cell \u001b[1;32mIn[3], line 21\u001b[0m\n\u001b[0;32m     18\u001b[0m         \u001b[38;5;28mprint\u001b[39m(\u001b[38;5;124m\"\u001b[39m\u001b[38;5;124m열기 대화 상자를 찾을 수 없습니다.\u001b[39m\u001b[38;5;124m\"\u001b[39m)\n\u001b[0;32m     20\u001b[0m \u001b[38;5;28;01mif\u001b[39;00m \u001b[38;5;18m__name__\u001b[39m \u001b[38;5;241m==\u001b[39m \u001b[38;5;124m\"\u001b[39m\u001b[38;5;124m__main__\u001b[39m\u001b[38;5;124m\"\u001b[39m:\n\u001b[1;32m---> 21\u001b[0m     \u001b[43mdetect_popup\u001b[49m\u001b[43m(\u001b[49m\u001b[43m)\u001b[49m\n",
      "Cell \u001b[1;32mIn[3], line 8\u001b[0m, in \u001b[0;36mdetect_popup\u001b[1;34m()\u001b[0m\n\u001b[0;32m      6\u001b[0m app\u001b[38;5;241m.\u001b[39mstart(\u001b[38;5;124m\"\u001b[39m\u001b[38;5;124mnotepad.exe\u001b[39m\u001b[38;5;124m\"\u001b[39m)\n\u001b[0;32m      7\u001b[0m main_dlg \u001b[38;5;241m=\u001b[39m app\u001b[38;5;241m.\u001b[39mUntitledNotepad\n\u001b[1;32m----> 8\u001b[0m \u001b[43mmain_dlg\u001b[49m\u001b[38;5;241;43m.\u001b[39;49m\u001b[43mmenu_select\u001b[49m(\u001b[38;5;124m\"\u001b[39m\u001b[38;5;124m파일->열기\u001b[39m\u001b[38;5;124m\"\u001b[39m)\n\u001b[0;32m     10\u001b[0m \u001b[38;5;66;03m# 대화 상자가 열릴 때까지 대기\u001b[39;00m\n\u001b[0;32m     11\u001b[0m time\u001b[38;5;241m.\u001b[39msleep(\u001b[38;5;241m1\u001b[39m)\n",
      "File \u001b[1;32mc:\\Users\\user\\miniconda3\\envs\\lhs_3.11\\Lib\\site-packages\\pywinauto\\application.py:396\u001b[0m, in \u001b[0;36mWindowSpecification.__getattribute__\u001b[1;34m(self, attr_name)\u001b[0m\n\u001b[0;32m    393\u001b[0m     \u001b[38;5;66;03m# Probably there is no DialogWrapper for another backend\u001b[39;00m\n\u001b[0;32m    395\u001b[0m     \u001b[38;5;28;01mif\u001b[39;00m need_to_resolve:\n\u001b[1;32m--> 396\u001b[0m         ctrls \u001b[38;5;241m=\u001b[39m \u001b[38;5;28;43mself\u001b[39;49m\u001b[38;5;241;43m.\u001b[39;49m\u001b[43m__resolve_control\u001b[49m\u001b[43m(\u001b[49m\u001b[38;5;28;43mself\u001b[39;49m\u001b[38;5;241;43m.\u001b[39;49m\u001b[43mcriteria\u001b[49m\u001b[43m)\u001b[49m\n\u001b[0;32m    397\u001b[0m         \u001b[38;5;28;01mreturn\u001b[39;00m \u001b[38;5;28mgetattr\u001b[39m(ctrls[\u001b[38;5;241m-\u001b[39m\u001b[38;5;241m1\u001b[39m], attr_name)\n\u001b[0;32m    399\u001b[0m \u001b[38;5;66;03m# It is a dialog/control criterion so let getitem\u001b[39;00m\n\u001b[0;32m    400\u001b[0m \u001b[38;5;66;03m# deal with it\u001b[39;00m\n",
      "File \u001b[1;32mc:\\Users\\user\\miniconda3\\envs\\lhs_3.11\\Lib\\site-packages\\pywinauto\\application.py:261\u001b[0m, in \u001b[0;36mWindowSpecification.__resolve_control\u001b[1;34m(self, criteria, timeout, retry_interval)\u001b[0m\n\u001b[0;32m    250\u001b[0m     ctrl \u001b[38;5;241m=\u001b[39m wait_until_passes(\n\u001b[0;32m    251\u001b[0m         timeout,\n\u001b[0;32m    252\u001b[0m         retry_interval,\n\u001b[1;32m   (...)\u001b[0m\n\u001b[0;32m    257\u001b[0m          controls\u001b[38;5;241m.\u001b[39mInvalidElement),\n\u001b[0;32m    258\u001b[0m         criteria)\n\u001b[0;32m    260\u001b[0m \u001b[38;5;28;01mexcept\u001b[39;00m \u001b[38;5;167;01mTimeoutError\u001b[39;00m \u001b[38;5;28;01mas\u001b[39;00m e:\n\u001b[1;32m--> 261\u001b[0m     \u001b[38;5;28;01mraise\u001b[39;00m e\u001b[38;5;241m.\u001b[39moriginal_exception\n\u001b[0;32m    263\u001b[0m \u001b[38;5;28;01mreturn\u001b[39;00m ctrl\n",
      "File \u001b[1;32mc:\\Users\\user\\miniconda3\\envs\\lhs_3.11\\Lib\\site-packages\\pywinauto\\timings.py:436\u001b[0m, in \u001b[0;36mwait_until_passes\u001b[1;34m(timeout, retry_interval, func, exceptions, *args, **kwargs)\u001b[0m\n\u001b[0;32m    433\u001b[0m \u001b[38;5;28;01mwhile\u001b[39;00m \u001b[38;5;28;01mTrue\u001b[39;00m:\n\u001b[0;32m    434\u001b[0m     \u001b[38;5;28;01mtry\u001b[39;00m:\n\u001b[0;32m    435\u001b[0m         \u001b[38;5;66;03m# Call the function with any arguments\u001b[39;00m\n\u001b[1;32m--> 436\u001b[0m         func_val \u001b[38;5;241m=\u001b[39m \u001b[43mfunc\u001b[49m\u001b[43m(\u001b[49m\u001b[38;5;241;43m*\u001b[39;49m\u001b[43margs\u001b[49m\u001b[43m,\u001b[49m\u001b[43m \u001b[49m\u001b[38;5;241;43m*\u001b[39;49m\u001b[38;5;241;43m*\u001b[39;49m\u001b[43mkwargs\u001b[49m\u001b[43m)\u001b[49m\n\u001b[0;32m    438\u001b[0m         \u001b[38;5;66;03m# if no exception is raised then we are finished\u001b[39;00m\n\u001b[0;32m    439\u001b[0m         \u001b[38;5;28;01mbreak\u001b[39;00m\n",
      "File \u001b[1;32mc:\\Users\\user\\miniconda3\\envs\\lhs_3.11\\Lib\\site-packages\\pywinauto\\application.py:203\u001b[0m, in \u001b[0;36mWindowSpecification.__get_ctrl\u001b[1;34m(self, criteria_)\u001b[0m\n\u001b[0;32m    201\u001b[0m     criteria[\u001b[38;5;241m0\u001b[39m][\u001b[38;5;124m'\u001b[39m\u001b[38;5;124mprocess\u001b[39m\u001b[38;5;124m'\u001b[39m] \u001b[38;5;241m=\u001b[39m \u001b[38;5;28mself\u001b[39m\u001b[38;5;241m.\u001b[39mapp\u001b[38;5;241m.\u001b[39mprocess\n\u001b[0;32m    202\u001b[0m     \u001b[38;5;28;01mdel\u001b[39;00m criteria[\u001b[38;5;241m0\u001b[39m][\u001b[38;5;124m'\u001b[39m\u001b[38;5;124mapp\u001b[39m\u001b[38;5;124m'\u001b[39m]\n\u001b[1;32m--> 203\u001b[0m dialog \u001b[38;5;241m=\u001b[39m \u001b[38;5;28mself\u001b[39m\u001b[38;5;241m.\u001b[39mbackend\u001b[38;5;241m.\u001b[39mgeneric_wrapper_class(\u001b[43mfindwindows\u001b[49m\u001b[38;5;241;43m.\u001b[39;49m\u001b[43mfind_element\u001b[49m\u001b[43m(\u001b[49m\u001b[38;5;241;43m*\u001b[39;49m\u001b[38;5;241;43m*\u001b[39;49m\u001b[43mcriteria\u001b[49m\u001b[43m[\u001b[49m\u001b[38;5;241;43m0\u001b[39;49m\u001b[43m]\u001b[49m\u001b[43m)\u001b[49m)\n\u001b[0;32m    205\u001b[0m ctrls \u001b[38;5;241m=\u001b[39m []\n\u001b[0;32m    206\u001b[0m \u001b[38;5;66;03m# if there is only criteria for a dialog then return it\u001b[39;00m\n",
      "File \u001b[1;32mc:\\Users\\user\\miniconda3\\envs\\lhs_3.11\\Lib\\site-packages\\pywinauto\\findwindows.py:84\u001b[0m, in \u001b[0;36mfind_element\u001b[1;34m(**kwargs)\u001b[0m\n\u001b[0;32m     77\u001b[0m \u001b[38;5;28;01mdef\u001b[39;00m \u001b[38;5;21mfind_element\u001b[39m(\u001b[38;5;241m*\u001b[39m\u001b[38;5;241m*\u001b[39mkwargs):\n\u001b[0;32m     78\u001b[0m \u001b[38;5;250m    \u001b[39m\u001b[38;5;124;03m\"\"\"\u001b[39;00m\n\u001b[0;32m     79\u001b[0m \u001b[38;5;124;03m    Call find_elements and ensure that only one element is returned\u001b[39;00m\n\u001b[0;32m     80\u001b[0m \n\u001b[0;32m     81\u001b[0m \u001b[38;5;124;03m    Calls find_elements with exactly the same arguments as it is called with\u001b[39;00m\n\u001b[0;32m     82\u001b[0m \u001b[38;5;124;03m    so please see :py:func:`find_elements` for the full parameters description.\u001b[39;00m\n\u001b[0;32m     83\u001b[0m \u001b[38;5;124;03m    \"\"\"\u001b[39;00m\n\u001b[1;32m---> 84\u001b[0m     elements \u001b[38;5;241m=\u001b[39m \u001b[43mfind_elements\u001b[49m\u001b[43m(\u001b[49m\u001b[38;5;241;43m*\u001b[39;49m\u001b[38;5;241;43m*\u001b[39;49m\u001b[43mkwargs\u001b[49m\u001b[43m)\u001b[49m\n\u001b[0;32m     86\u001b[0m     \u001b[38;5;28;01mif\u001b[39;00m \u001b[38;5;129;01mnot\u001b[39;00m elements:\n\u001b[0;32m     87\u001b[0m         \u001b[38;5;28;01mraise\u001b[39;00m ElementNotFoundError(kwargs)\n",
      "File \u001b[1;32mc:\\Users\\user\\miniconda3\\envs\\lhs_3.11\\Lib\\site-packages\\pywinauto\\findwindows.py:305\u001b[0m, in \u001b[0;36mfind_elements\u001b[1;34m(class_name, class_name_re, parent, process, title, title_re, top_level_only, visible_only, enabled_only, best_match, handle, ctrl_index, found_index, predicate_func, active_only, control_id, control_type, auto_id, framework_id, backend, depth)\u001b[0m\n\u001b[0;32m    300\u001b[0m     \u001b[38;5;28;01mexcept\u001b[39;00m (controls\u001b[38;5;241m.\u001b[39mInvalidWindowHandle,\n\u001b[0;32m    301\u001b[0m             controls\u001b[38;5;241m.\u001b[39mInvalidElement):\n\u001b[0;32m    302\u001b[0m         \u001b[38;5;66;03m# skip invalid handles - they have dissapeared\u001b[39;00m\n\u001b[0;32m    303\u001b[0m         \u001b[38;5;66;03m# since the list of elements was retrieved\u001b[39;00m\n\u001b[0;32m    304\u001b[0m         \u001b[38;5;28;01mcontinue\u001b[39;00m\n\u001b[1;32m--> 305\u001b[0m elements \u001b[38;5;241m=\u001b[39m \u001b[43mfindbestmatch\u001b[49m\u001b[38;5;241;43m.\u001b[39;49m\u001b[43mfind_best_control_matches\u001b[49m\u001b[43m(\u001b[49m\u001b[43mbest_match\u001b[49m\u001b[43m,\u001b[49m\u001b[43m \u001b[49m\u001b[43mwrapped_elems\u001b[49m\u001b[43m)\u001b[49m\n\u001b[0;32m    307\u001b[0m \u001b[38;5;66;03m# convert found elements back to ElementInfo\u001b[39;00m\n\u001b[0;32m    308\u001b[0m backup_elements \u001b[38;5;241m=\u001b[39m elements[:]\n",
      "File \u001b[1;32mc:\\Users\\user\\miniconda3\\envs\\lhs_3.11\\Lib\\site-packages\\pywinauto\\findbestmatch.py:536\u001b[0m, in \u001b[0;36mfind_best_control_matches\u001b[1;34m(search_text, controls)\u001b[0m\n\u001b[0;32m    533\u001b[0m     best_texts \u001b[38;5;241m=\u001b[39m best_texts_clean_ci\n\u001b[0;32m    535\u001b[0m \u001b[38;5;28;01mif\u001b[39;00m best_ratio \u001b[38;5;241m<\u001b[39m find_best_control_match_cutoff:\n\u001b[1;32m--> 536\u001b[0m     \u001b[38;5;28;01mraise\u001b[39;00m MatchError(items \u001b[38;5;241m=\u001b[39m name_control_map\u001b[38;5;241m.\u001b[39mkeys(), tofind \u001b[38;5;241m=\u001b[39m search_text)\n\u001b[0;32m    538\u001b[0m \u001b[38;5;28;01mreturn\u001b[39;00m [name_control_map[best_text] \u001b[38;5;28;01mfor\u001b[39;00m best_text \u001b[38;5;129;01min\u001b[39;00m best_texts]\n",
      "\u001b[1;31mMatchError\u001b[0m: Could not find 'UntitledNotepad' in 'dict_keys([])'"
     ]
    }
   ],
   "source": [
    "from pywinauto import application\n",
    "import time\n",
    "\n",
    "def detect_popup():\n",
    "    app = application.Application()\n",
    "    app.start(\"notepad.exe\")\n",
    "    main_dlg = app.UntitledNotepad\n",
    "    main_dlg.menu_select(\"파일->열기\")\n",
    "    \n",
    "    # 대화 상자가 열릴 때까지 대기\n",
    "    time.sleep(1)\n",
    "\n",
    "    # 대화 상자 찾기\n",
    "    open_dlg = app.window(title=\"열기\")\n",
    "    if open_dlg.exists():\n",
    "        print(\"열기 대화 상자가 열렸습니다.\")\n",
    "    else:\n",
    "        print(\"열기 대화 상자를 찾을 수 없습니다.\")\n",
    "\n",
    "if __name__ == \"__main__\":\n",
    "    detect_popup()\n"
   ]
  },
  {
   "cell_type": "code",
   "execution_count": null,
   "metadata": {},
   "outputs": [],
   "source": []
  }
 ],
 "metadata": {
  "kernelspec": {
   "display_name": "lhs_3.11",
   "language": "python",
   "name": "python3"
  },
  "language_info": {
   "codemirror_mode": {
    "name": "ipython",
    "version": 3
   },
   "file_extension": ".py",
   "mimetype": "text/x-python",
   "name": "python",
   "nbconvert_exporter": "python",
   "pygments_lexer": "ipython3",
   "version": "3.11.7"
  }
 },
 "nbformat": 4,
 "nbformat_minor": 2
}

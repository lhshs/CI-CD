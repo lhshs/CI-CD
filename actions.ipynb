{
 "cells": [
  {
   "cell_type": "code",
   "execution_count": 1,
   "metadata": {},
   "outputs": [
    {
     "name": "stdout",
     "output_type": "stream",
     "text": [
      "16:08:42\n",
      "16:08:43\n",
      "16:08:44\n"
     ]
    },
    {
     "ename": "",
     "evalue": "",
     "output_type": "error",
     "traceback": [
      "\u001b[1;31mThe Kernel crashed while executing code in the current cell or a previous cell. \n",
      "\u001b[1;31mPlease review the code in the cell(s) to identify a possible cause of the failure. \n",
      "\u001b[1;31mClick <a href='https://aka.ms/vscodeJupyterKernelCrash'>here</a> for more info. \n",
      "\u001b[1;31mView Jupyter <a href='command:jupyter.viewOutput'>log</a> for further details."
     ]
    }
   ],
   "source": [
    "import time, os, sys\n",
    "import tkinter as tk\n",
    "from tkinter import messagebox\n",
    "\n",
    "def print_time():\n",
    "    current_time = time.strftime('%H:%M:%S')\n",
    "    print(current_time)\n",
    "    root.after(1000, print_time)\n",
    "\n",
    "def check_popup():\n",
    "    if tk._default_root and tk._default_root.winfo_exists():\n",
    "        messagebox.showinfo(\"팝업이 감지되었습니다\", \"프로그램을 재시작합니다.\")\n",
    "        restart_program()\n",
    "\n",
    "def restart_program():\n",
    "    print('xxxx')\n",
    "    python = sys.executable\n",
    "    os.execl(python, python, *sys.argv)\n",
    "\n",
    "root = tk.Tk()\n",
    "root.withdraw()  # Hide the main window\n",
    "\n",
    "# Start printing time\n",
    "print_time()\n",
    "\n",
    "# Check for popup every 500 milliseconds\n",
    "root.after(500, check_popup)\n",
    "\n",
    "root.mainloop()\n"
   ]
  },
  {
   "cell_type": "code",
   "execution_count": 1,
   "metadata": {},
   "outputs": [],
   "source": [
    "import psutil\n",
    "import subprocess\n",
    "import time\n",
    "\n",
    "def is_notepad_running():\n",
    "    for proc in psutil.process_iter(['pid', 'name']):\n",
    "        if 'notepad.exe' in proc.info['name']:\n",
    "            return True\n",
    "    return False\n",
    "\n",
    "def restart_script():\n",
    "    python_script = \"./timer.py\"  # 여기에 여러분의 파이썬 스크립트 파일명을 넣어주세요\n",
    "    subprocess.Popen([\"python\", python_script])\n",
    "    exit()\n",
    "\n",
    "while True:\n",
    "    if is_notepad_running():\n",
    "        print(\"메모장이 실행 중입니다.\")\n",
    "        restart_script()\n",
    "    time.sleep(5)  # 5초마다 메모장 실행 여부 확인\n"
   ]
  }
 ],
 "metadata": {
  "kernelspec": {
   "display_name": "lhs_3.11",
   "language": "python",
   "name": "python3"
  },
  "language_info": {
   "codemirror_mode": {
    "name": "ipython",
    "version": 3
   },
   "file_extension": ".py",
   "mimetype": "text/x-python",
   "name": "python",
   "nbconvert_exporter": "python",
   "pygments_lexer": "ipython3",
   "version": "3.11.7"
  }
 },
 "nbformat": 4,
 "nbformat_minor": 2
}
